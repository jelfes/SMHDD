{
 "cells": [
  {
   "cell_type": "code",
   "execution_count": 1,
   "id": "29c714d1",
   "metadata": {},
   "outputs": [],
   "source": [
    "import numpy as np\n",
    "import nibabel as nib\n",
    "import pandas as pd\n",
    "from config_local import helpers\n",
    "\n",
    "\n",
    "hp = helpers()"
   ]
  },
  {
   "cell_type": "code",
   "execution_count": 2,
   "id": "5625f2b5",
   "metadata": {},
   "outputs": [
    {
     "name": "stdout",
     "output_type": "stream",
     "text": [
      "data/\n"
     ]
    }
   ],
   "source": [
    "_data_path = hp.get_data_path()\n",
    "print(_data_path)"
   ]
  },
  {
   "cell_type": "code",
   "execution_count": 3,
   "id": "d0458fb6",
   "metadata": {},
   "outputs": [],
   "source": [
    "phenotypic_df = pd.read_csv(_data_path + \"NYU_phenotypic.csv\").fillna(-999)\n",
    "dic = {}\n",
    "\n",
    "for i, row in phenotypic_df.iterrows():\n",
    "    \n",
    "    id = str(row['ScanDir ID']).zfill(7)\n",
    "    fold = int(row['Fold'])\n",
    "    part = row['Partition']\n",
    "\n",
    "    if fold != -999:\n",
    "        file = _data_path + f\"{part}/fold{fold}/wmean_mrda{id}_session_1_rest_1.nii.gz\"\n",
    "        img = nib.load(file)\n",
    "        data = img.get_fdata()\n",
    "        y = row['DX']\n",
    "        y_bin = int(y>=1)\n",
    "        dic[id] = {\"img\":img, \"data\":data, \"dx\":y, \"dx_bin\":y_bin, \"part\":part, \"fold\":fold, \"data_reduced\":data[10:-10, 10:-10, :-20]}"
   ]
  },
  {
   "cell_type": "code",
   "execution_count": 4,
   "id": "3c13c41b",
   "metadata": {},
   "outputs": [],
   "source": [
    "def train_loader(dic, i, is_reshape=True, pca=False):\n",
    "    X_val = []\n",
    "    X_train = []\n",
    "    y_val = []\n",
    "    y_train = []\n",
    "\n",
    "    for id, subj in dic.items():\n",
    "\n",
    "        if ((subj[\"part\"]==\"train\") & (subj[\"fold\"]!=i)):\n",
    "            if is_reshape:\n",
    "                X_train.append(subj['data_reduced'].reshape(-1))\n",
    "            else:\n",
    "                X_train.append(subj['data'])\n",
    "            y_train.append(subj['dx_bin'])\n",
    "                \n",
    "        if ((subj[\"part\"]==\"train\") & (subj[\"fold\"]==i)):\n",
    "            if is_reshape:\n",
    "                X_val.append(subj['data_reduced'].reshape(-1))\n",
    "            else:\n",
    "                X_val.append(subj['data'])\n",
    "            y_val.append(subj['dx_bin'])\n",
    "            \n",
    "    if pca:\n",
    "        transformer = MiniBatchSparsePCA(n_components=10,\n",
    "                                         batch_size=3,\n",
    "                                         random_state=42)\n",
    "        transformer.fit(X_train)\n",
    "        X_train = transformer.transform(X_train)\n",
    "        X_val = transformer.transform(X_val)\n",
    "\n",
    "    \n",
    "    return np.array(X_train), np.array(y_train), np.array(X_val), np.array(y_val)"
   ]
  },
  {
   "cell_type": "markdown",
   "id": "7baa0ab9",
   "metadata": {},
   "source": [
    "## CNN-LSMT"
   ]
  },
  {
   "cell_type": "code",
   "execution_count": 5,
   "id": "22ed4f87",
   "metadata": {},
   "outputs": [],
   "source": [
    "import torch\n",
    "import torchvision\n",
    "import torchvision.transforms as transforms\n",
    "from torch.utils.data import Dataset, DataLoader\n",
    "import torch.nn as nn\n",
    "import torch.nn.functional as F\n",
    "import torch.optim as optim"
   ]
  },
  {
   "cell_type": "code",
   "execution_count": 6,
   "id": "a7378095",
   "metadata": {},
   "outputs": [],
   "source": [
    "class ADHDDataset(Dataset):\n",
    "    def __init__(self, data, targets, transform=None):\n",
    "        self.data = data\n",
    "        self.targets = targets\n",
    "        self.transform = transform\n",
    "        \n",
    "    def __getitem__(self, index):\n",
    "        x = self.data[index]\n",
    "        y = self.targets[index]\n",
    "        \n",
    "        if self.transform:\n",
    "            x = self.data[index].astype(np.uint8)\n",
    "            x = self.transform(x)        \n",
    "        return x, y\n",
    "    \n",
    "    def __len__(self):\n",
    "        return len(self.data)"
   ]
  },
  {
   "cell_type": "code",
   "execution_count": 7,
   "id": "6874a900",
   "metadata": {},
   "outputs": [],
   "source": [
    "class Net(nn.Module):\n",
    "    \"\"\"\n",
    "    The idea is the CNN sees bath_size * 47 images independently. Each image has only 1 color channel\n",
    "    We capture important features from them. To later send for each scan a sequence of 47 features\n",
    "    to the LSTM to capture the time dependendy between images of the same scan. We take the last state of the LSTM and\n",
    "    pass it through a couple of FC layers to make a prediction.\n",
    "    \"\"\"\n",
    "    def __init__(self):\n",
    "        super().__init__()\n",
    "        self.conv1 = nn.Conv2d(in_channels=1, out_channels=1, kernel_size=5, stride=1)\n",
    "        self.pool = nn.MaxPool2d(2, 2)\n",
    "        self.conv2 = nn.Conv2d(in_channels=1, out_channels=1, kernel_size=5)\n",
    "        self.lstm = nn.LSTM(input_size=99, hidden_size=10, num_layers=2, batch_first=True) # (batch, seq, feature)\n",
    "        self.fc1 = nn.Linear(in_features=10, out_features=5)\n",
    "        self.fc2 = nn.Linear(in_features=5, out_features=2)\n",
    "\n",
    "    def forward(self, x):\n",
    "        x = x.view(3*47, 1, 49, 58)\n",
    "        x = self.pool(F.relu(self.conv1(x)))\n",
    "        x = self.pool(F.relu(self.conv2(x)))\n",
    "        lstm_out, (ht, ct) = self.lstm(x.view(3, 47, -1))\n",
    "        x = F.relu(self.fc1(lstm_out[:, -1]))\n",
    "        x = self.fc2(x)\n",
    "        \n",
    "        return x\n",
    "\n",
    "net = Net()"
   ]
  },
  {
   "cell_type": "markdown",
   "id": "a7487194",
   "metadata": {},
   "source": [
    "## Train"
   ]
  },
  {
   "cell_type": "markdown",
   "id": "b1ada4ce",
   "metadata": {},
   "source": [
    "Rigth now I'm only doing the training for 1 of the folds."
   ]
  },
  {
   "cell_type": "code",
   "execution_count": 8,
   "id": "b3622967",
   "metadata": {},
   "outputs": [],
   "source": [
    "criterion = nn.CrossEntropyLoss()\n",
    "optimizer = optim.SGD(net.parameters(), lr=0.001, momentum=0.9)"
   ]
  },
  {
   "cell_type": "code",
   "execution_count": 9,
   "id": "2130712e",
   "metadata": {},
   "outputs": [],
   "source": [
    "X_train, y_train, X_val, y_val = train_loader(dic, fold, is_reshape=False)\n",
    "transform = transforms.Compose(\n",
    "    [transforms.ToTensor(),\n",
    "     transforms.Normalize(0.5, 0.5)])\n",
    "\n",
    "traindataset = ADHDDataset(X_train, list(y_train), transform=transform)\n",
    "trainloader = DataLoader(traindataset, batch_size=3, drop_last=True)\n",
    "\n",
    "# get some random training images\n",
    "dataiter = iter(trainloader)"
   ]
  },
  {
   "cell_type": "code",
   "execution_count": 10,
   "id": "85266c5c",
   "metadata": {},
   "outputs": [
    {
     "name": "stdout",
     "output_type": "stream",
     "text": [
      "[1,     1] loss: 0.076\n",
      "[1,    11] loss: 0.735\n",
      "[1,    21] loss: 0.739\n",
      "[1,    31] loss: 0.684\n",
      "[1,    41] loss: 0.678\n",
      "[1,    51] loss: 0.699\n",
      "[2,     1] loss: 0.073\n",
      "[2,    11] loss: 0.711\n",
      "[2,    21] loss: 0.710\n",
      "[2,    31] loss: 0.689\n",
      "[2,    41] loss: 0.688\n",
      "[2,    51] loss: 0.694\n",
      "Finished Training\n"
     ]
    }
   ],
   "source": [
    "X_train, y_train, X_val, y_val = train_loader(dic, fold, is_reshape=False)\n",
    "transform = transforms.Compose(\n",
    "    [transforms.ToTensor()])\n",
    "traindataset = ADHDDataset(X_train, list(y_train), transform=transform)\n",
    "trainloader = DataLoader(traindataset, batch_size=3, drop_last=True)\n",
    "\n",
    "for epoch in range(2):\n",
    "    running_loss = 0.0\n",
    "    for i, data in enumerate(trainloader, 0):\n",
    "        # get the inputs; data is a list of [inputs, labels]\n",
    "        inputs, labels = data\n",
    "        #inputs = inputs.to(torch.float32)\n",
    "\n",
    "        # zero the parameter gradients\n",
    "        optimizer.zero_grad()\n",
    "\n",
    "        # forward + backward + optimize\n",
    "        outputs = net(inputs)\n",
    "        loss = criterion(outputs, labels)\n",
    "        loss.backward()\n",
    "        optimizer.step()\n",
    "\n",
    "        # print statistics\n",
    "        running_loss += loss.item()\n",
    "        if i % 10 == 0:    # print every 10 mini-batches\n",
    "            print(f'[{epoch + 1}, {i + 1:5d}] loss: {running_loss / 10:.3f}')\n",
    "            running_loss = 0.0\n",
    "\n",
    "print('Finished Training')"
   ]
  },
  {
   "cell_type": "markdown",
   "id": "f47bd1af",
   "metadata": {},
   "source": [
    "## Debug NN"
   ]
  },
  {
   "cell_type": "code",
   "execution_count": 772,
   "id": "ed2e3a12",
   "metadata": {},
   "outputs": [],
   "source": [
    "conv1 = nn.Conv2d(in_channels=1, out_channels=1, kernel_size=5, stride=1)\n",
    "pool = nn.MaxPool2d(2, 2)\n",
    "conv2 = nn.Conv2d(in_channels=1, out_channels=1, kernel_size=5)\n",
    "lstm = nn.LSTM(input_size=99, hidden_size=10, num_layers=2, batch_first=True)\n",
    "fc1 = nn.Linear(in_features=10, out_features=5)\n",
    "fc2 = nn.Linear(in_features=5, out_features=2)"
   ]
  },
  {
   "cell_type": "code",
   "execution_count": 784,
   "id": "26ae6290",
   "metadata": {},
   "outputs": [],
   "source": [
    "images, labels = next(dataiter)"
   ]
  },
  {
   "cell_type": "code",
   "execution_count": 785,
   "id": "9c7fca5e",
   "metadata": {},
   "outputs": [
    {
     "data": {
      "text/plain": [
       "torch.Size([3, 47, 49, 58])"
      ]
     },
     "execution_count": 785,
     "metadata": {},
     "output_type": "execute_result"
    }
   ],
   "source": [
    "images.shape"
   ]
  },
  {
   "cell_type": "code",
   "execution_count": 786,
   "id": "28464254",
   "metadata": {},
   "outputs": [
    {
     "data": {
      "text/plain": [
       "torch.Size([141, 1, 49, 58])"
      ]
     },
     "execution_count": 786,
     "metadata": {},
     "output_type": "execute_result"
    }
   ],
   "source": [
    "x = images.view(3*47, 1, 49, 58)\n",
    "x.shape"
   ]
  },
  {
   "cell_type": "code",
   "execution_count": 787,
   "id": "d69f27bf",
   "metadata": {},
   "outputs": [
    {
     "data": {
      "text/plain": [
       "torch.Size([141, 1, 45, 54])"
      ]
     },
     "execution_count": 787,
     "metadata": {},
     "output_type": "execute_result"
    }
   ],
   "source": [
    "x = conv1(x)\n",
    "x.shape"
   ]
  },
  {
   "cell_type": "code",
   "execution_count": 788,
   "id": "4c49dd98",
   "metadata": {},
   "outputs": [
    {
     "data": {
      "text/plain": [
       "torch.Size([141, 1, 22, 27])"
      ]
     },
     "execution_count": 788,
     "metadata": {},
     "output_type": "execute_result"
    }
   ],
   "source": [
    "x = pool(F.relu(x))\n",
    "x.shape"
   ]
  },
  {
   "cell_type": "code",
   "execution_count": 789,
   "id": "3061be42",
   "metadata": {},
   "outputs": [
    {
     "data": {
      "text/plain": [
       "torch.Size([141, 1, 18, 23])"
      ]
     },
     "execution_count": 789,
     "metadata": {},
     "output_type": "execute_result"
    }
   ],
   "source": [
    "x = conv2(x)\n",
    "x.shape"
   ]
  },
  {
   "cell_type": "code",
   "execution_count": 790,
   "id": "d92c520f",
   "metadata": {},
   "outputs": [
    {
     "data": {
      "text/plain": [
       "torch.Size([141, 1, 9, 11])"
      ]
     },
     "execution_count": 790,
     "metadata": {},
     "output_type": "execute_result"
    }
   ],
   "source": [
    "x = pool(F.relu(x))\n",
    "x.shape"
   ]
  },
  {
   "cell_type": "code",
   "execution_count": 791,
   "id": "fc901023",
   "metadata": {},
   "outputs": [
    {
     "data": {
      "text/plain": [
       "torch.Size([3, 47, 99])"
      ]
     },
     "execution_count": 791,
     "metadata": {},
     "output_type": "execute_result"
    }
   ],
   "source": [
    "x = x.view(3, 47, -1)\n",
    "x.shape"
   ]
  },
  {
   "cell_type": "code",
   "execution_count": 792,
   "id": "14afbd7e",
   "metadata": {},
   "outputs": [
    {
     "data": {
      "text/plain": [
       "torch.Size([3, 47, 10])"
      ]
     },
     "execution_count": 792,
     "metadata": {},
     "output_type": "execute_result"
    }
   ],
   "source": [
    "x, _ = lstm(x)\n",
    "x.shape"
   ]
  },
  {
   "cell_type": "code",
   "execution_count": 793,
   "id": "f87819d4",
   "metadata": {},
   "outputs": [
    {
     "data": {
      "text/plain": [
       "torch.Size([3, 10])"
      ]
     },
     "execution_count": 793,
     "metadata": {},
     "output_type": "execute_result"
    }
   ],
   "source": [
    "x = x[:, -1]\n",
    "x.shape"
   ]
  },
  {
   "cell_type": "code",
   "execution_count": 794,
   "id": "706f798d",
   "metadata": {},
   "outputs": [
    {
     "data": {
      "text/plain": [
       "torch.Size([3, 5])"
      ]
     },
     "execution_count": 794,
     "metadata": {},
     "output_type": "execute_result"
    }
   ],
   "source": [
    "x = F.relu(fc1(x))\n",
    "x.shape"
   ]
  },
  {
   "cell_type": "code",
   "execution_count": 795,
   "id": "631d0c83",
   "metadata": {},
   "outputs": [
    {
     "data": {
      "text/plain": [
       "torch.Size([3, 2])"
      ]
     },
     "execution_count": 795,
     "metadata": {},
     "output_type": "execute_result"
    }
   ],
   "source": [
    "x = fc2(x)\n",
    "x.shape"
   ]
  },
  {
   "cell_type": "code",
   "execution_count": 797,
   "id": "1c20e627",
   "metadata": {},
   "outputs": [
    {
     "data": {
      "text/plain": [
       "tensor(0.7220, grad_fn=<NllLossBackward0>)"
      ]
     },
     "execution_count": 797,
     "metadata": {},
     "output_type": "execute_result"
    }
   ],
   "source": [
    "loss = criterion(x, labels)\n",
    "loss"
   ]
  },
  {
   "cell_type": "code",
   "execution_count": 809,
   "id": "70f15383",
   "metadata": {},
   "outputs": [
    {
     "data": {
      "text/plain": [
       "tensor([[0.5581, 0.4419],\n",
       "        [0.5581, 0.4419],\n",
       "        [0.5581, 0.4419]], grad_fn=<SoftmaxBackward0>)"
      ]
     },
     "execution_count": 809,
     "metadata": {},
     "output_type": "execute_result"
    }
   ],
   "source": [
    "outputs"
   ]
  },
  {
   "cell_type": "code",
   "execution_count": 810,
   "id": "4b0d1d23",
   "metadata": {},
   "outputs": [],
   "source": [
    "a, predicted = torch.max(outputs, 1)"
   ]
  },
  {
   "cell_type": "code",
   "execution_count": 811,
   "id": "99545258",
   "metadata": {},
   "outputs": [
    {
     "data": {
      "text/plain": [
       "tensor([0.5581, 0.5581, 0.5581], grad_fn=<MaxBackward0>)"
      ]
     },
     "execution_count": 811,
     "metadata": {},
     "output_type": "execute_result"
    }
   ],
   "source": [
    "a"
   ]
  },
  {
   "cell_type": "code",
   "execution_count": 812,
   "id": "91f1de77",
   "metadata": {},
   "outputs": [
    {
     "data": {
      "text/plain": [
       "tensor([0, 0, 0])"
      ]
     },
     "execution_count": 812,
     "metadata": {},
     "output_type": "execute_result"
    }
   ],
   "source": [
    "predicted"
   ]
  },
  {
   "cell_type": "code",
   "execution_count": 813,
   "id": "0fa31767",
   "metadata": {},
   "outputs": [
    {
     "data": {
      "text/plain": [
       "tensor([1, 1, 1])"
      ]
     },
     "execution_count": 813,
     "metadata": {},
     "output_type": "execute_result"
    }
   ],
   "source": [
    "labels"
   ]
  },
  {
   "cell_type": "code",
   "execution_count": null,
   "id": "ce86755d",
   "metadata": {},
   "outputs": [],
   "source": []
  }
 ],
 "metadata": {
  "kernelspec": {
   "display_name": "Python 3 (ipykernel)",
   "language": "python",
   "name": "python3"
  },
  "language_info": {
   "codemirror_mode": {
    "name": "ipython",
    "version": 3
   },
   "file_extension": ".py",
   "mimetype": "text/x-python",
   "name": "python",
   "nbconvert_exporter": "python",
   "pygments_lexer": "ipython3",
   "version": "3.10.6"
  }
 },
 "nbformat": 4,
 "nbformat_minor": 5
}
