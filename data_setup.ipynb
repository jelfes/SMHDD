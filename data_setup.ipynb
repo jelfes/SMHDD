{
 "cells": [
  {
   "cell_type": "code",
   "execution_count": 1,
   "metadata": {},
   "outputs": [],
   "source": [
    "import os \n",
    "import shutil\n",
    "import pandas as pd\n",
    "from config_local import helpers\n",
    "\n",
    "from sklearn.model_selection import train_test_split\n",
    "\n",
    "hp = helpers()\n",
    "\n",
    "_data_path = hp.get_data_path()\n",
    "phenotypic = pd.read_csv(_data_path + \"NYU/NYU_phenotypic.csv\").rename(columns={\"ScanDir ID\": \"ID\"})"
   ]
  },
  {
   "cell_type": "code",
   "execution_count": 2,
   "metadata": {},
   "outputs": [],
   "source": [
    "phenotypic = phenotypic[phenotypic[\"QC_Rest_1\"].notna() & (phenotypic[\"DX\"]!=2)]\n",
    "phenotypic['y'] = (phenotypic['DX'] == 0)"
   ]
  },
  {
   "cell_type": "code",
   "execution_count": 3,
   "metadata": {},
   "outputs": [],
   "source": [
    "df_train, df_test = train_test_split(\n",
    "    phenotypic, test_size=0.2, shuffle=True, stratify=phenotypic['DX'], random_state=815\n",
    ")"
   ]
  },
  {
   "cell_type": "code",
   "execution_count": 4,
   "metadata": {},
   "outputs": [
    {
     "name": "stdout",
     "output_type": "stream",
     "text": [
      "Train distribution:\n",
      "0    0.456140\n",
      "1    0.339181\n",
      "3    0.204678\n",
      "Name: DX, dtype: float64\n",
      "\n",
      "Test distribution:\n",
      "0    0.465116\n",
      "1    0.348837\n",
      "3    0.186047\n",
      "Name: DX, dtype: float64\n",
      "\n"
     ]
    }
   ],
   "source": [
    "print(f\"Train distribution:\\n{df_train.DX.value_counts(normalize=True)}\\n\")\n",
    "print(f\"Test distribution:\\n{df_test.DX.value_counts(normalize=True)}\\n\")"
   ]
  },
  {
   "cell_type": "code",
   "execution_count": 5,
   "metadata": {},
   "outputs": [],
   "source": [
    "from sklearn.model_selection import StratifiedKFold\n",
    "\n",
    "skf = StratifiedKFold(n_splits=5, shuffle=True, random_state=815)\n",
    "_ = skf.get_n_splits(df_train, df_train.DX)"
   ]
  },
  {
   "cell_type": "code",
   "execution_count": 6,
   "metadata": {},
   "outputs": [
    {
     "name": "stdout",
     "output_type": "stream",
     "text": [
      "Fold 0:\n",
      "Test fold distribution:\n",
      "0    0.457143\n",
      "3    0.285714\n",
      "1    0.257143\n",
      "Name: DX, dtype: float64\n",
      "\n",
      "Fold 1:\n",
      "Test fold distribution:\n",
      "0    0.470588\n",
      "1    0.411765\n",
      "3    0.117647\n",
      "Name: DX, dtype: float64\n",
      "\n",
      "Fold 2:\n",
      "Test fold distribution:\n",
      "0    0.470588\n",
      "1    0.323529\n",
      "3    0.205882\n",
      "Name: DX, dtype: float64\n",
      "\n",
      "Fold 3:\n",
      "Test fold distribution:\n",
      "0    0.441176\n",
      "1    0.323529\n",
      "3    0.235294\n",
      "Name: DX, dtype: float64\n",
      "\n",
      "Fold 4:\n",
      "Test fold distribution:\n",
      "0    0.441176\n",
      "1    0.382353\n",
      "3    0.176471\n",
      "Name: DX, dtype: float64\n",
      "\n"
     ]
    }
   ],
   "source": [
    "for i, (train_index, test_index) in enumerate(skf.split(df_train.drop('y', axis=1), df_train.y)):\n",
    "    print(f\"Fold {i}:\")\n",
    "    print(f\"Test fold distribution:\\n{df_train.iloc[test_index].DX.value_counts(normalize=True)}\\n\")"
   ]
  },
  {
   "cell_type": "code",
   "execution_count": 7,
   "metadata": {},
   "outputs": [
    {
     "name": "stdout",
     "output_type": "stream",
     "text": [
      "Fold 1:\n",
      "Test fold distribution:\n",
      "0    0.457143\n",
      "3    0.285714\n",
      "1    0.257143\n",
      "Name: DX, dtype: float64\n",
      "\n",
      "/media/jan/TOSHIBA EXT/SMHDD_22/data/train/fold1/\n",
      "Fold 2:\n",
      "Test fold distribution:\n",
      "0    0.470588\n",
      "1    0.411765\n",
      "3    0.117647\n",
      "Name: DX, dtype: float64\n",
      "\n",
      "/media/jan/TOSHIBA EXT/SMHDD_22/data/train/fold2/\n",
      "Fold 3:\n",
      "Test fold distribution:\n",
      "0    0.470588\n",
      "1    0.323529\n",
      "3    0.205882\n",
      "Name: DX, dtype: float64\n",
      "\n",
      "/media/jan/TOSHIBA EXT/SMHDD_22/data/train/fold3/\n",
      "Fold 4:\n",
      "Test fold distribution:\n",
      "0    0.441176\n",
      "1    0.323529\n",
      "3    0.235294\n",
      "Name: DX, dtype: float64\n",
      "\n",
      "/media/jan/TOSHIBA EXT/SMHDD_22/data/train/fold4/\n",
      "Fold 5:\n",
      "Test fold distribution:\n",
      "0    0.441176\n",
      "1    0.382353\n",
      "3    0.176471\n",
      "Name: DX, dtype: float64\n",
      "\n",
      "/media/jan/TOSHIBA EXT/SMHDD_22/data/train/fold5/\n"
     ]
    }
   ],
   "source": [
    "for i, (train_index, test_index) in enumerate(skf.split(df_train.drop('y', axis=1), df_train.y)):\n",
    "    print(f\"Fold {i+1}:\")\n",
    "    print(f\"Test fold distribution:\\n{df_train.iloc[test_index].DX.value_counts(normalize=True)}\\n\")\n",
    "\n",
    "    dest = _data_path + f\"data/train/fold{i+1}/\"\n",
    "    print(dest)\n",
    "    if os.path.exists(dest):\n",
    "        shutil.rmtree(dest)\n",
    "    \n",
    "    os.mkdir(dest)\n",
    "    for id in df_train.iloc[test_index].ID.values:\n",
    "        \n",
    "        ID = str(id).zfill(7)\n",
    "        file_mean = f\"wmean_mrda{ID}_session_1_rest_1.nii.gz\"\n",
    "        file_mask = f\"mask_wmean_mrda{ID}_session_1_rest_1.nii.gz\"\n",
    "        file_func = f\"sfnwmrda{ID}_session_1_rest_1.nii.gz\"\n",
    "        src = _data_path + f\"NYU/{ID}/\"\n",
    "        \n",
    "        \n",
    "        if not os.path.exists(src + file_mean): \n",
    "            print(f\"{src}\\n does not exist!\")\n",
    "        else:\n",
    "            shutil.copyfile(src + file_mean, dest + file_mean)\n",
    "            shutil.copyfile(src + file_mask, dest + file_mask)\n",
    "            shutil.copyfile(src + file_func, dest + file_func)\n"
   ]
  },
  {
   "cell_type": "code",
   "execution_count": 8,
   "metadata": {},
   "outputs": [],
   "source": [
    "dest = _data_path + f\"data/test/\"\n",
    "\n",
    "# delete folder if it exists and creat new one\n",
    "if os.path.exists(dest):\n",
    "        shutil.rmtree(dest)\n",
    "    \n",
    "os.mkdir(dest)\n",
    "\n",
    "# copy test files\n",
    "for id in df_test.ID.values:\n",
    "    \n",
    "    ID = str(id).zfill(7)\n",
    "\n",
    "    file_mean = f\"wmean_mrda{ID}_session_1_rest_1.nii.gz\"\n",
    "    file_mask = f\"mask_wmean_mrda{ID}_session_1_rest_1.nii.gz\"\n",
    "    file_func = f\"sfnwmrda{ID}_session_1_rest_1.nii.gz\"\n",
    "    src = _data_path + f\"NYU/{ID}/\"\n",
    "    \n",
    "    \n",
    "    if not os.path.exists(src + file_mean): \n",
    "        print(f\"{src}\\n does not exist!\")\n",
    "    else:\n",
    "        shutil.copyfile(src + file_mean, dest + file_mean)\n",
    "        shutil.copyfile(src + file_mask, dest + file_mask)\n",
    "        shutil.copyfile(src + file_func, dest + file_func)\n"
   ]
  },
  {
   "attachments": {},
   "cell_type": "markdown",
   "metadata": {},
   "source": [
    "<p style=\"text-align: center;\"><i><b>Fin</b></i></p>"
   ]
  }
 ],
 "metadata": {
  "kernelspec": {
   "display_name": "stat-venv",
   "language": "python",
   "name": "python3"
  },
  "language_info": {
   "codemirror_mode": {
    "name": "ipython",
    "version": 3
   },
   "file_extension": ".py",
   "mimetype": "text/x-python",
   "name": "python",
   "nbconvert_exporter": "python",
   "pygments_lexer": "ipython3",
   "version": "3.8.10"
  },
  "orig_nbformat": 4,
  "vscode": {
   "interpreter": {
    "hash": "24aed787140b6ca219884ec1f80be3ab203fadf185eda90b949a24475a265daf"
   }
  }
 },
 "nbformat": 4,
 "nbformat_minor": 2
}
