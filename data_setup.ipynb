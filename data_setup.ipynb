{
 "cells": [
  {
   "cell_type": "code",
   "execution_count": 1,
   "metadata": {},
   "outputs": [
    {
     "name": "stdout",
     "output_type": "stream",
     "text": [
      "Index(['ID', 'Site', 'Gender', 'Age', 'Handedness', 'DX', 'Secondary Dx ',\n",
      "       'ADHD Measure', 'ADHD Index', 'Inattentive', 'Hyper/Impulsive',\n",
      "       'IQ Measure', 'Verbal IQ', 'Performance IQ', 'Full2 IQ', 'Full4 IQ',\n",
      "       'Med Status', 'QC_Rest_1', 'QC_Rest_2', 'QC_Rest_3', 'QC_Rest_4',\n",
      "       'QC_Anatomical_1', 'QC_Anatomical_2'],\n",
      "      dtype='object')\n"
     ]
    }
   ],
   "source": [
    "import os \n",
    "import shutil\n",
    "import pandas as pd\n",
    "from config_local import helpers\n",
    "\n",
    "from sklearn.model_selection import train_test_split\n",
    "\n",
    "hp = helpers()\n",
    "\n",
    "_data_path = hp.get_data_path()\n",
    "phenotypic = pd.read_csv(_data_path + \"NYU/NYU_phenotypic.csv\").rename(columns={\"ScanDir ID\": \"ID\"})"
   ]
  },
  {
   "cell_type": "code",
   "execution_count": 2,
   "metadata": {},
   "outputs": [],
   "source": [
    "phenotypic = phenotypic[phenotypic[\"QC_Rest_1\"].notna() & (phenotypic[\"DX\"]!=2)]\n",
    "phenotypic['y'] = (phenotypic['DX'] == 0)"
   ]
  },
  {
   "cell_type": "code",
   "execution_count": 3,
   "metadata": {},
   "outputs": [],
   "source": [
    "df_train, df_test = train_test_split(\n",
    "    phenotypic, test_size=0.2, shuffle=True, stratify=phenotypic['DX'], random_state=815\n",
    ")"
   ]
  },
  {
   "cell_type": "code",
   "execution_count": 4,
   "metadata": {},
   "outputs": [
    {
     "name": "stdout",
     "output_type": "stream",
     "text": [
      "Train distribution:\n",
      "0    0.456140\n",
      "1    0.339181\n",
      "3    0.204678\n",
      "Name: DX, dtype: float64\n",
      "\n",
      "Test distribution:\n",
      "0    0.465116\n",
      "1    0.348837\n",
      "3    0.186047\n",
      "Name: DX, dtype: float64\n",
      "\n"
     ]
    }
   ],
   "source": [
    "print(f\"Train distribution:\\n{df_train.DX.value_counts(normalize=True)}\\n\")\n",
    "print(f\"Test distribution:\\n{df_test.DX.value_counts(normalize=True)}\\n\")"
   ]
  },
  {
   "cell_type": "code",
   "execution_count": 5,
   "metadata": {},
   "outputs": [],
   "source": [
    "from sklearn.model_selection import StratifiedKFold\n",
    "\n",
    "skf = StratifiedKFold(n_splits=5, shuffle=True, random_state=815)\n",
    "_ = skf.get_n_splits(df_train, df_train.DX)"
   ]
  },
  {
   "cell_type": "code",
   "execution_count": 6,
   "metadata": {},
   "outputs": [
    {
     "name": "stdout",
     "output_type": "stream",
     "text": [
      "Fold 0:\n",
      "Test fold distribution:\n",
      "0    0.457143\n",
      "3    0.285714\n",
      "1    0.257143\n",
      "Name: DX, dtype: float64\n",
      "\n",
      "Fold 1:\n",
      "Test fold distribution:\n",
      "0    0.470588\n",
      "1    0.411765\n",
      "3    0.117647\n",
      "Name: DX, dtype: float64\n",
      "\n",
      "Fold 2:\n",
      "Test fold distribution:\n",
      "0    0.470588\n",
      "1    0.323529\n",
      "3    0.205882\n",
      "Name: DX, dtype: float64\n",
      "\n",
      "Fold 3:\n",
      "Test fold distribution:\n",
      "0    0.441176\n",
      "1    0.323529\n",
      "3    0.235294\n",
      "Name: DX, dtype: float64\n",
      "\n",
      "Fold 4:\n",
      "Test fold distribution:\n",
      "0    0.441176\n",
      "1    0.382353\n",
      "3    0.176471\n",
      "Name: DX, dtype: float64\n",
      "\n"
     ]
    }
   ],
   "source": [
    "for i, (train_index, test_index) in enumerate(skf.split(df_train.drop('y', axis=1), df_train.y)):\n",
    "    print(f\"Fold {i}:\")\n",
    "    print(f\"Test fold distribution:\\n{df_train.iloc[test_index].DX.value_counts(normalize=True)}\\n\")"
   ]
  },
  {
   "cell_type": "code",
   "execution_count": 26,
   "metadata": {},
   "outputs": [
    {
     "name": "stdout",
     "output_type": "stream",
     "text": [
      "Fold 1:\n",
      "Test fold distribution:\n",
      "0    0.457143\n",
      "3    0.285714\n",
      "1    0.257143\n",
      "Name: DX, dtype: float64\n",
      "\n",
      "/media/jan/TOSHIBA EXT/SMHDD_22/data/train/fold1/\n",
      "Fold 2:\n",
      "Test fold distribution:\n",
      "0    0.470588\n",
      "1    0.411765\n",
      "3    0.117647\n",
      "Name: DX, dtype: float64\n",
      "\n",
      "/media/jan/TOSHIBA EXT/SMHDD_22/data/train/fold2/\n",
      "Fold 3:\n",
      "Test fold distribution:\n",
      "0    0.470588\n",
      "1    0.323529\n",
      "3    0.205882\n",
      "Name: DX, dtype: float64\n",
      "\n",
      "/media/jan/TOSHIBA EXT/SMHDD_22/data/train/fold3/\n",
      "Fold 4:\n",
      "Test fold distribution:\n",
      "0    0.441176\n",
      "1    0.323529\n",
      "3    0.235294\n",
      "Name: DX, dtype: float64\n",
      "\n",
      "/media/jan/TOSHIBA EXT/SMHDD_22/data/train/fold4/\n",
      "Fold 5:\n",
      "Test fold distribution:\n",
      "0    0.441176\n",
      "1    0.382353\n",
      "3    0.176471\n",
      "Name: DX, dtype: float64\n",
      "\n",
      "/media/jan/TOSHIBA EXT/SMHDD_22/data/train/fold5/\n"
     ]
    }
   ],
   "source": [
    "for i, (train_index, test_index) in enumerate(skf.split(df_train.drop('y', axis=1), df_train.y)):\n",
    "    print(f\"Fold {i+1}:\")\n",
    "    print(f\"Test fold distribution:\\n{df_train.iloc[test_index].DX.value_counts(normalize=True)}\\n\")\n",
    "\n",
    "    destination = _data_path + f\"data/train/fold{i+1}/\"\n",
    "    print(destination)\n",
    "    if os.path.exists(destination):\n",
    "        shutil.rmtree(destination)\n",
    "    \n",
    "    os.mkdir(destination)\n",
    "    for id in df_train.iloc[test_index].ID.values:\n",
    "        \n",
    "        ID = str(id).zfill(7)\n",
    "        file = f\"wmean_mrda{ID}_session_1_rest_1.nii.gz\"\n",
    "        src = _data_path + f\"NYU/{ID}/\" + file\n",
    "        dest = destination + file\n",
    "        \n",
    "        if not os.path.exists(src): \n",
    "            print(f\"{src}\\n does not exist!\")\n",
    "        else:\n",
    "            shutil.copyfile(src, dest)"
   ]
  },
  {
   "cell_type": "code",
   "execution_count": 28,
   "metadata": {},
   "outputs": [
    {
     "name": "stdout",
     "output_type": "stream",
     "text": [
      "0010006\n",
      "0010048\n",
      "0010074\n",
      "0010022\n",
      "1918630\n",
      "4095229\n",
      "3163200\n",
      "0010068\n",
      "0010047\n",
      "0010023\n",
      "2735617\n",
      "0010069\n",
      "0010053\n",
      "2682736\n",
      "3349423\n",
      "1511464\n",
      "0010109\n",
      "0010050\n",
      "0010043\n",
      "0010065\n",
      "1471736\n",
      "0010129\n",
      "2991307\n",
      "0010117\n",
      "0010124\n",
      "0010064\n",
      "0010075\n",
      "0010042\n",
      "1995121\n",
      "0010119\n",
      "1780174\n",
      "0010035\n",
      "1567356\n",
      "0010128\n",
      "0010121\n",
      "0010114\n",
      "2054438\n",
      "0010073\n",
      "0010019\n",
      "0010084\n",
      "0010014\n",
      "0010030\n",
      "2996531\n"
     ]
    }
   ],
   "source": [
    "destination = _data_path + f\"data/test/\"\n",
    "\n",
    "# delete folder if it exists and creat new one\n",
    "if os.path.exists(destination):\n",
    "        shutil.rmtree(destination)\n",
    "    \n",
    "os.mkdir(destination)\n",
    "\n",
    "# copy test files\n",
    "for id in df_test.ID.values:\n",
    "    \n",
    "    ID = str(id).zfill(7)\n",
    "\n",
    "    file = f\"wmean_mrda{ID}_session_1_rest_1.nii.gz\"\n",
    "    src = _data_path + f\"NYU/{ID}/\" + file\n",
    "    dest = destination + file\n",
    "    \n",
    "    if not os.path.exists(src): \n",
    "        print(f\"{src}\\n does not exist!\")\n",
    "    else:\n",
    "        shutil.copyfile(src, dest)"
   ]
  },
  {
   "cell_type": "code",
   "execution_count": null,
   "metadata": {},
   "outputs": [],
   "source": []
  }
 ],
 "metadata": {
  "kernelspec": {
   "display_name": "stat-venv",
   "language": "python",
   "name": "python3"
  },
  "language_info": {
   "codemirror_mode": {
    "name": "ipython",
    "version": 3
   },
   "file_extension": ".py",
   "mimetype": "text/x-python",
   "name": "python",
   "nbconvert_exporter": "python",
   "pygments_lexer": "ipython3",
   "version": "3.8.10"
  },
  "orig_nbformat": 4,
  "vscode": {
   "interpreter": {
    "hash": "24aed787140b6ca219884ec1f80be3ab203fadf185eda90b949a24475a265daf"
   }
  }
 },
 "nbformat": 4,
 "nbformat_minor": 2
}
